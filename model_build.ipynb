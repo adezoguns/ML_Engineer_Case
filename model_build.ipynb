{
 "cells": [
  {
   "cell_type": "markdown",
   "source": [
    "# FNOL Model Build"
   ],
   "metadata": {}
  },
  {
   "cell_type": "code",
   "execution_count": 2,
   "source": [
    "import pandas as pd\n",
    "from catboost import CatBoostRegressor, CatBoostClassifier, Pool, cv\n",
    "from sklearn.metrics import mean_absolute_error, log_loss\n",
    "import numpy as np\n",
    "# from sklearn.model_selection import train_test_split"
   ],
   "outputs": [],
   "metadata": {
    "tags": []
   }
  },
  {
   "cell_type": "code",
   "execution_count": 3,
   "source": [
    "df = pd.read_csv('./data/Data_Scientist_Interview_Task.csv')"
   ],
   "outputs": [],
   "metadata": {}
  },
  {
   "cell_type": "code",
   "execution_count": 4,
   "source": [
    "# drop columns that don't provide useful information\n",
    "df = df.drop(columns=['Claim Number', 'Notifier', 'Loss_code', 'Loss_description', 'Inception_to_loss'])\n",
    "\n",
    "# drop additional columns that we won't use in this round of modelling\n",
    "# date of loss could arguably be used to provide day of the week info that might be useful\n",
    "# time of loss could be used to create time bands that split out rush hours and late nights etc.\n",
    "df = df.drop(columns=['date_of_loss', 'Time_hour'])"
   ],
   "outputs": [],
   "metadata": {}
  },
  {
   "cell_type": "code",
   "execution_count": 5,
   "source": [
    "df['Weather_conditions'] = df['Weather_conditions'].fillna('N/K')\n",
    "\n",
    "df['PH_considered_TP_at_fault'] = df['PH_considered_TP_at_fault'].replace('#', 'n/k')"
   ],
   "outputs": [],
   "metadata": {}
  },
  {
   "cell_type": "code",
   "execution_count": 6,
   "source": [
    "# set values in target variables less than zero to zero\n",
    "\n",
    "df.loc[df['Incurred'] < 0, ['Incurred', 'Capped Incurred']] = 0"
   ],
   "outputs": [],
   "metadata": {}
  },
  {
   "cell_type": "markdown",
   "source": [
    "## Create Attritional Model"
   ],
   "metadata": {}
  },
  {
   "cell_type": "code",
   "execution_count": 7,
   "source": [
    "# create a data frame for the attritional claims model\n",
    "\n",
    "df_att = df.drop(columns=['Incurred'])"
   ],
   "outputs": [],
   "metadata": {}
  },
  {
   "cell_type": "code",
   "execution_count": 8,
   "source": [
    "\n",
    "feature_names = list(df_att.drop(columns=['Capped Incurred']))\n",
    "cat_features = df_att.drop(columns=['Capped Incurred']).select_dtypes(include=['object']).columns.tolist()\n",
    "\n",
    "data_pool = Pool(\n",
    "    data = df_att.drop(columns=['Capped Incurred']),\n",
    "    label = df_att['Capped Incurred'],\n",
    "    feature_names = feature_names,\n",
    "    cat_features = cat_features\n",
    ")"
   ],
   "outputs": [],
   "metadata": {}
  },
  {
   "cell_type": "code",
   "execution_count": 9,
   "source": [
    "params = {\"objective\": \"Tweedie:variance_power=1.99\",\n",
    "          \"iterations\": 1000,\n",
    "          \"random_seed\": 69,\n",
    "#          \"depth\": 2,\n",
    "#          \"loss_function\": \"Logloss\",\n",
    "          \"verbose\": False}"
   ],
   "outputs": [],
   "metadata": {}
  },
  {
   "cell_type": "code",
   "execution_count": 10,
   "source": [
    "scores = cv(pool = data_pool,\n",
    "            params = params,\n",
    "            fold_count = 4,\n",
    "            early_stopping_rounds = 15)"
   ],
   "outputs": [
    {
     "output_type": "stream",
     "name": "stdout",
     "text": [
      "Stopped by overfitting detector  (15 iterations wait)\n"
     ]
    }
   ],
   "metadata": {}
  },
  {
   "cell_type": "code",
   "execution_count": 11,
   "source": [
    "optimal_iterations = len(scores)-15\n",
    "optimal_iterations"
   ],
   "outputs": [
    {
     "output_type": "execute_result",
     "data": {
      "text/plain": [
       "551"
      ]
     },
     "metadata": {},
     "execution_count": 11
    }
   ],
   "metadata": {}
  },
  {
   "cell_type": "code",
   "execution_count": 12,
   "source": [
    "# Fit final model\n",
    "params = {\"objective\": \"Tweedie:variance_power=1.99\",\n",
    "          \"iterations\": optimal_iterations,\n",
    "          \"random_seed\": 69,\n",
    "          \"verbose\": False}\n",
    "\n",
    "\n",
    "att_model = CatBoostRegressor(**params)\n",
    "\n",
    "att_model.fit(data_pool)"
   ],
   "outputs": [
    {
     "output_type": "execute_result",
     "data": {
      "text/plain": [
       "<catboost.core.CatBoostRegressor at 0x7f4a316499a0>"
      ]
     },
     "metadata": {},
     "execution_count": 12
    }
   ],
   "metadata": {}
  },
  {
   "cell_type": "code",
   "execution_count": 13,
   "source": [
    "# Calculate mse of the model\n",
    "\n",
    "att_model_preds = att_model.predict(data_pool)\n",
    "\n",
    "mae = mean_absolute_error(att_model_preds, df_att['Capped Incurred'])\n",
    "\n",
    "mae"
   ],
   "outputs": [
    {
     "output_type": "execute_result",
     "data": {
      "text/plain": [
       "4465.370717733324"
      ]
     },
     "metadata": {},
     "execution_count": 13
    }
   ],
   "metadata": {}
  },
  {
   "cell_type": "code",
   "execution_count": 14,
   "source": [
    "# save the model\n",
    "model_name = \"fnol_attritional_model.cbm\"\n",
    "\n",
    "att_model.save_model(model_name, format=\"cbm\")"
   ],
   "outputs": [],
   "metadata": {}
  },
  {
   "cell_type": "markdown",
   "source": [
    "## Create Large Loss Propensity Model"
   ],
   "metadata": {}
  },
  {
   "cell_type": "code",
   "execution_count": 15,
   "source": [
    "df['Large_Prop'] = np.where(df['Incurred'] > df['Capped Incurred'], 1, 0)"
   ],
   "outputs": [],
   "metadata": {}
  },
  {
   "cell_type": "code",
   "execution_count": 16,
   "source": [
    "df['Large_Prop'].sum()/len(df['Large_Prop'])"
   ],
   "outputs": [
    {
     "output_type": "execute_result",
     "data": {
      "text/plain": [
       "0.025744376544012484"
      ]
     },
     "metadata": {},
     "execution_count": 16
    }
   ],
   "metadata": {}
  },
  {
   "cell_type": "code",
   "execution_count": 17,
   "source": [
    "# create a data frame for the attritional claims model\n",
    "\n",
    "df_large = df.drop(columns=['Incurred', 'Capped Incurred'])"
   ],
   "outputs": [],
   "metadata": {}
  },
  {
   "cell_type": "code",
   "execution_count": 18,
   "source": [
    "\n",
    "feature_names = list(df_large.drop(columns=['Large_Prop']))\n",
    "cat_features = df_large.drop(columns=['Large_Prop']).select_dtypes(include=['object']).columns.tolist()\n",
    "\n",
    "data_pool = Pool(\n",
    "    data = df_large.drop(columns=['Large_Prop']),\n",
    "    label = df_large['Large_Prop'],\n",
    "    feature_names = feature_names,\n",
    "    cat_features = cat_features\n",
    ")"
   ],
   "outputs": [],
   "metadata": {}
  },
  {
   "cell_type": "code",
   "execution_count": 19,
   "source": [
    "params = {\"objective\": \"Logloss\",\n",
    "          \"iterations\": 1000,\n",
    "          \"random_seed\": 69,\n",
    "#          \"depth\": 2,\n",
    "#          \"loss_function\": \"Logloss\",\n",
    "          \"verbose\": False}"
   ],
   "outputs": [],
   "metadata": {}
  },
  {
   "cell_type": "code",
   "execution_count": 20,
   "source": [
    "scores = cv(pool = data_pool,\n",
    "            params = params,\n",
    "            fold_count = 4,\n",
    "            early_stopping_rounds = 15)"
   ],
   "outputs": [
    {
     "output_type": "stream",
     "name": "stdout",
     "text": [
      "Stopped by overfitting detector  (15 iterations wait)\n"
     ]
    }
   ],
   "metadata": {}
  },
  {
   "cell_type": "code",
   "execution_count": 21,
   "source": [
    "optimal_iterations = len(scores)-15\n",
    "optimal_iterations"
   ],
   "outputs": [
    {
     "output_type": "execute_result",
     "data": {
      "text/plain": [
       "221"
      ]
     },
     "metadata": {},
     "execution_count": 21
    }
   ],
   "metadata": {}
  },
  {
   "cell_type": "code",
   "execution_count": 22,
   "source": [
    "# Fit final model\n",
    "params = {\"objective\": \"Logloss\",\n",
    "          \"iterations\": optimal_iterations,\n",
    "          \"random_seed\": 69,\n",
    "          \"verbose\": False}\n",
    "\n",
    "\n",
    "large_model = CatBoostClassifier(**params)\n",
    "\n",
    "large_model.fit(data_pool)"
   ],
   "outputs": [
    {
     "output_type": "execute_result",
     "data": {
      "text/plain": [
       "<catboost.core.CatBoostClassifier at 0x7f4a316083a0>"
      ]
     },
     "metadata": {},
     "execution_count": 22
    }
   ],
   "metadata": {}
  },
  {
   "cell_type": "code",
   "execution_count": 23,
   "source": [
    "# Calculate mse of the model\n",
    "\n",
    "large_model_preds = large_model.predict_proba(data_pool)[:, 1]\n",
    "\n",
    "logloss = log_loss(df_large['Large_Prop'], large_model_preds)\n",
    "\n",
    "logloss"
   ],
   "outputs": [
    {
     "output_type": "execute_result",
     "data": {
      "text/plain": [
       "0.04804899206887887"
      ]
     },
     "metadata": {},
     "execution_count": 23
    }
   ],
   "metadata": {}
  },
  {
   "cell_type": "code",
   "execution_count": 24,
   "source": [
    "# Mean prediction\n",
    "\n",
    "large_model_preds.mean()"
   ],
   "outputs": [
    {
     "output_type": "execute_result",
     "data": {
      "text/plain": [
       "0.02563057459931494"
      ]
     },
     "metadata": {},
     "execution_count": 24
    }
   ],
   "metadata": {}
  },
  {
   "cell_type": "code",
   "execution_count": 25,
   "source": [
    "# save the model\n",
    "model_name = \"fnol_large_model.cbm\"\n",
    "\n",
    "large_model.save_model(model_name, format=\"cbm\")"
   ],
   "outputs": [],
   "metadata": {}
  },
  {
   "cell_type": "markdown",
   "source": [
    "## Create Large Loss Model"
   ],
   "metadata": {
    "tags": []
   }
  },
  {
   "cell_type": "code",
   "execution_count": 26,
   "source": [
    "df['Large_Incurred'] = df['Incurred'] - df['Capped Incurred']"
   ],
   "outputs": [],
   "metadata": {
    "tags": []
   }
  },
  {
   "cell_type": "code",
   "execution_count": 27,
   "source": [
    "large_severity = df[df['Large_Prop']==1]['Large_Incurred'].mean()\n",
    "large_severity"
   ],
   "outputs": [
    {
     "output_type": "execute_result",
     "data": {
      "text/plain": [
       "128818.101010101"
      ]
     },
     "metadata": {},
     "execution_count": 27
    }
   ],
   "metadata": {}
  },
  {
   "cell_type": "markdown",
   "source": [
    "## Overall Model Performance"
   ],
   "metadata": {
    "tags": []
   }
  },
  {
   "cell_type": "code",
   "execution_count": 28,
   "source": [
    "df['FNOL_Prediction'] = att_model_preds + (large_model_preds * large_severity)"
   ],
   "outputs": [],
   "metadata": {}
  },
  {
   "cell_type": "code",
   "execution_count": 29,
   "source": [
    "df['FNOL_Prediction'].mean()"
   ],
   "outputs": [
    {
     "output_type": "execute_result",
     "data": {
      "text/plain": [
       "8898.169940414371"
      ]
     },
     "metadata": {},
     "execution_count": 29
    }
   ],
   "metadata": {}
  },
  {
   "cell_type": "code",
   "execution_count": 30,
   "source": [
    "df['Incurred'].mean()"
   ],
   "outputs": [
    {
     "output_type": "execute_result",
     "data": {
      "text/plain": [
       "9427.851644779612"
      ]
     },
     "metadata": {},
     "execution_count": 30
    }
   ],
   "metadata": {}
  },
  {
   "cell_type": "code",
   "execution_count": 31,
   "source": [
    "mae = mean_absolute_error(df['FNOL_Prediction'], df['Incurred'])\n",
    "\n",
    "mae"
   ],
   "outputs": [
    {
     "output_type": "execute_result",
     "data": {
      "text/plain": [
       "7924.461187881152"
      ]
     },
     "metadata": {},
     "execution_count": 31
    }
   ],
   "metadata": {}
  },
  {
   "cell_type": "code",
   "execution_count": null,
   "source": [],
   "outputs": [],
   "metadata": {}
  },
  {
   "cell_type": "code",
   "execution_count": 32,
   "source": [
    "len(feature_names)"
   ],
   "outputs": [
    {
     "output_type": "execute_result",
     "data": {
      "text/plain": [
       "37"
      ]
     },
     "metadata": {},
     "execution_count": 32
    }
   ],
   "metadata": {}
  },
  {
   "cell_type": "code",
   "execution_count": 33,
   "source": [
    "list(range(1, 38))"
   ],
   "outputs": [
    {
     "output_type": "execute_result",
     "data": {
      "text/plain": [
       "[1,\n",
       " 2,\n",
       " 3,\n",
       " 4,\n",
       " 5,\n",
       " 6,\n",
       " 7,\n",
       " 8,\n",
       " 9,\n",
       " 10,\n",
       " 11,\n",
       " 12,\n",
       " 13,\n",
       " 14,\n",
       " 15,\n",
       " 16,\n",
       " 17,\n",
       " 18,\n",
       " 19,\n",
       " 20,\n",
       " 21,\n",
       " 22,\n",
       " 23,\n",
       " 24,\n",
       " 25,\n",
       " 26,\n",
       " 27,\n",
       " 28,\n",
       " 29,\n",
       " 30,\n",
       " 31,\n",
       " 32,\n",
       " 33,\n",
       " 34,\n",
       " 35,\n",
       " 36,\n",
       " 37]"
      ]
     },
     "metadata": {},
     "execution_count": 33
    }
   ],
   "metadata": {}
  },
  {
   "cell_type": "code",
   "execution_count": 34,
   "source": [
    "list(reversed(range(1, 38)))"
   ],
   "outputs": [
    {
     "output_type": "execute_result",
     "data": {
      "text/plain": [
       "[37,\n",
       " 36,\n",
       " 35,\n",
       " 34,\n",
       " 33,\n",
       " 32,\n",
       " 31,\n",
       " 30,\n",
       " 29,\n",
       " 28,\n",
       " 27,\n",
       " 26,\n",
       " 25,\n",
       " 24,\n",
       " 23,\n",
       " 22,\n",
       " 21,\n",
       " 20,\n",
       " 19,\n",
       " 18,\n",
       " 17,\n",
       " 16,\n",
       " 15,\n",
       " 14,\n",
       " 13,\n",
       " 12,\n",
       " 11,\n",
       " 10,\n",
       " 9,\n",
       " 8,\n",
       " 7,\n",
       " 6,\n",
       " 5,\n",
       " 4,\n",
       " 3,\n",
       " 2,\n",
       " 1]"
      ]
     },
     "metadata": {},
     "execution_count": 34
    }
   ],
   "metadata": {}
  },
  {
   "cell_type": "code",
   "execution_count": null,
   "source": [],
   "outputs": [],
   "metadata": {}
  }
 ],
 "metadata": {
  "kernelspec": {
   "name": "python3",
   "display_name": "Python 3.8.10 64-bit ('cv': virtualenv)"
  },
  "language_info": {
   "codemirror_mode": {
    "name": "ipython",
    "version": 3
   },
   "file_extension": ".py",
   "mimetype": "text/x-python",
   "name": "python",
   "nbconvert_exporter": "python",
   "pygments_lexer": "ipython3",
   "version": "3.8.10"
  },
  "interpreter": {
   "hash": "2b6c67509e3a69995a8e22d2d5428d9cc2539a8483fbf78672208215ad2bff86"
  }
 },
 "nbformat": 4,
 "nbformat_minor": 5
}